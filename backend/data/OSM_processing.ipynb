{
 "cells": [
  {
   "cell_type": "code",
   "execution_count": 3,
   "metadata": {},
   "outputs": [],
   "source": [
    "import osmnx as ox\n",
    "\n",
    "# Configure the place and network type\n",
    "place_name = \"Seoul, South Korea\"\n",
    "network_type = 'drive'  # 'drive' for drivable public streets (not service/private roads)\n",
    "\n",
    "# Download the street network\n",
    "G_osm = ox.graph_from_place(place_name, network_type=network_type)"
   ]
  },
  {
   "cell_type": "code",
   "execution_count": 4,
   "metadata": {},
   "outputs": [
    {
     "name": "stdout",
     "output_type": "stream",
     "text": [
      "Index(['osmid', 'name', 'highway', 'oneway', 'reversed', 'length', 'geometry',\n",
      "       'lanes', 'ref', 'bridge', 'maxspeed', 'tunnel', 'junction', 'access',\n",
      "       'width', 'service'],\n",
      "      dtype='object')\n",
      "Index(['y', 'x', 'street_count', 'highway', 'ref', 'geometry'], dtype='object')\n"
     ]
    }
   ],
   "source": [
    "# Example of extracting data\n",
    "import pandas as pd\n",
    "\n",
    "# Convert to GeoDataFrame\n",
    "nodes, edges = ox.graph_to_gdfs(G_osm, nodes=True, edges=True)\n",
    "\n",
    "print(edges.columns)\n",
    "print(nodes.columns)"
   ]
  },
  {
   "cell_type": "code",
   "execution_count": 7,
   "metadata": {},
   "outputs": [],
   "source": [
    "# Save nodes to CSV\n",
    "nodes.to_csv(\"osm_nodes.csv\") \n",
    "\n",
    "# Save edges to CSV\n",
    "edges.to_csv(\"osm_edges.csv\") "
   ]
  },
  {
   "cell_type": "code",
   "execution_count": 5,
   "metadata": {},
   "outputs": [
    {
     "ename": "AttributeError",
     "evalue": "module 'osmnx' has no attribute 'get_edge_nodes'",
     "output_type": "error",
     "traceback": [
      "\u001b[1;31m---------------------------------------------------------------------------\u001b[0m",
      "\u001b[1;31mAttributeError\u001b[0m                            Traceback (most recent call last)",
      "Cell \u001b[1;32mIn[5], line 2\u001b[0m\n\u001b[0;32m      1\u001b[0m edge_index \u001b[38;5;241m=\u001b[39m \u001b[38;5;241m0\u001b[39m\n\u001b[1;32m----> 2\u001b[0m start_node_id, end_node_id \u001b[38;5;241m=\u001b[39m \u001b[43mox\u001b[49m\u001b[38;5;241;43m.\u001b[39;49m\u001b[43mget_edge_nodes\u001b[49m(G_osm, edge_index)\n",
      "\u001b[1;31mAttributeError\u001b[0m: module 'osmnx' has no attribute 'get_edge_nodes'"
     ]
    }
   ],
   "source": [
    "edge_index = 0\n",
    "start_node_id, end_node_id = ox.get_edge_nodes(G_osm, edge_index)\n"
   ]
  },
  {
   "cell_type": "code",
   "execution_count": null,
   "metadata": {},
   "outputs": [],
   "source": [
    "# Prepare edges data for your model\n",
    "edges['start_node'] = edges['u']\n",
    "edges['end_node'] = edges['v']\n",
    "edges['travel_time'] = edges['length'] / 30 * 60  # assuming speed of 30 km/h\n",
    "edges['traffic_capacity'] = 100  # example static capacity\n",
    "\n",
    "# Save to CSV\n",
    "edges[['start_node', 'end_node', 'travel_time', 'traffic_capacity']].to_csv('road_section_data_OSM.csv', index=False)\n",
    "\n",
    "# Prepare nodes data (intersections may need additional assumptions)\n",
    "nodes['capacity'] = 100  # Static example capacity\n",
    "nodes['delay'] = 1       # Static example delay\n",
    "nodes.reset_index(inplace=True)\n",
    "nodes[['osmid', 'capacity', 'delay']].to_csv('intersection_capacity_OSM.csv', index=False)"
   ]
  },
  {
   "cell_type": "code",
   "execution_count": null,
   "metadata": {},
   "outputs": [],
   "source": []
  }
 ],
 "metadata": {
  "kernelspec": {
   "display_name": "Python 3",
   "language": "python",
   "name": "python3"
  },
  "language_info": {
   "codemirror_mode": {
    "name": "ipython",
    "version": 3
   },
   "file_extension": ".py",
   "mimetype": "text/x-python",
   "name": "python",
   "nbconvert_exporter": "python",
   "pygments_lexer": "ipython3",
   "version": "3.12.1"
  }
 },
 "nbformat": 4,
 "nbformat_minor": 2
}
