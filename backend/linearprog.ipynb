{
 "cells": [
  {
   "cell_type": "code",
   "execution_count": 36,
   "metadata": {},
   "outputs": [],
   "source": [
    "from pulp import LpProblem, LpMinimize, LpVariable, lpSum, value\n",
    "import random"
   ]
  },
  {
   "cell_type": "code",
   "execution_count": 37,
   "metadata": {},
   "outputs": [],
   "source": [
    "# Sample data (replace with your actual data)\n",
    "num_people = 5\n",
    "num_modes = 3\n",
    "num_nodes = 4\n",
    "\n",
    "# Adjusted Capacity and Availability to make the problem feasible\n",
    "Capacity = {0: 8, 1: 10, 2: 15}\n",
    "Availability = {0: 1, 1: 1, 2: 1}\n",
    "\n",
    "# Sample data with adjusted Capacity and Availability\n",
    "Time = {(i, m, a, b): i * 10 + m * 5 + a * 3 + b * 2 for i in range(num_people) for m in range(num_modes) for a in range(num_nodes) for b in range(num_nodes)}\n",
    "Demand = {i: 1 for i in range(num_people)}\n",
    "TrafficCongestion = {(m, a, b): random.uniform(1.0, 2.0) for m in range(num_modes) for a in range(num_nodes) for b in range(num_nodes)}"
   ]
  },
  {
   "cell_type": "code",
   "execution_count": 38,
   "metadata": {},
   "outputs": [
    {
     "name": "stdout",
     "output_type": "stream",
     "text": [
      "{(0, 0): x_0_0, (0, 1): x_0_1, (0, 2): x_0_2, (1, 0): x_1_0, (1, 1): x_1_1, (1, 2): x_1_2, (2, 0): x_2_0, (2, 1): x_2_1, (2, 2): x_2_2, (3, 0): x_3_0, (3, 1): x_3_1, (3, 2): x_3_2, (4, 0): x_4_0, (4, 1): x_4_1, (4, 2): x_4_2}\n"
     ]
    }
   ],
   "source": [
    "# Create the LP problem\n",
    "model = LpProblem(name=\"EvacuationProblem\", sense=LpMinimize)\n",
    "\n",
    "# Decision variables\n",
    "x = {(i, j): LpVariable(name=f\"x_{i}_{j}\", cat=\"Binary\") for i in range(num_people) for j in range(num_modes)}\n",
    "\n",
    "# Objective function with traffic simulation\n",
    "print(x)\n",
    "for i in range(num_people):\n",
    "    for j in range(num_modes):\n",
    "        for a in range(num_modes):\n",
    "            for b in range(num_modes):\n",
    "                model += lpSum((Time[i, j, a, b] * TrafficCongestion[j, a, b]) * x[i, j]), \"TotalEvacuationTime\"\n"
   ]
  },
  {
   "cell_type": "code",
   "execution_count": 39,
   "metadata": {},
   "outputs": [],
   "source": [
    "# Capacity constraints\n",
    "for j in range(num_modes):\n",
    "    model += lpSum(Demand[i] * x[i, j] for i in range(num_people)) <= Capacity[j], f\"CapacityConstraint_{j}\"\n",
    "\n",
    "# Availability constraints\n",
    "for j in range(num_modes):\n",
    "    model += lpSum(Demand[i] * x[i, j] for i in range(num_people)) <= Availability[j], f\"AvailabilityConstraint_{j}\"\n",
    "\n",
    "# Assignment constraints\n",
    "for i in range(num_people):\n",
    "    model += lpSum(x[i, j] for j in range(num_modes)) == 1, f\"AssignmentConstraint_{i}\"\n",
    "\n",
    "# Mode availability constraints\n",
    "for i in range(num_people):\n",
    "    for j in range(num_modes):\n",
    "        if Availability[j] == 0:\n",
    "            model += x[i, j] == 0, f\"ModeAvailabilityConstraint_{i}_{j}\""
   ]
  },
  {
   "cell_type": "code",
   "execution_count": 40,
   "metadata": {},
   "outputs": [
    {
     "name": "stdout",
     "output_type": "stream",
     "text": [
      "Welcome to the CBC MILP Solver \n",
      "Version: 2.10.3 \n",
      "Build Date: Dec 15 2019 \n",
      "\n",
      "command line - /Library/Frameworks/Python.framework/Versions/3.11/lib/python3.11/site-packages/pulp/solverdir/cbc/osx/64/cbc /var/folders/xs/5nydm67x3fj41732cnf_d1nw0000gq/T/afcca4c3d47446b79f2ea781142b29f1-pulp.mps timeMode elapsed branch printingOptions all solution /var/folders/xs/5nydm67x3fj41732cnf_d1nw0000gq/T/afcca4c3d47446b79f2ea781142b29f1-pulp.sol (default strategy 1)\n",
      "At line 2 NAME          MODEL\n",
      "At line 3 ROWS\n",
      "At line 16 COLUMNS\n",
      "At line 93 RHS\n",
      "At line 105 BOUNDS\n",
      "At line 121 ENDATA\n",
      "Problem MODEL has 11 rows, 15 columns and 45 elements\n",
      "Coin0008I MODEL read with 0 errors\n",
      "Option for timeMode changed from cpu to elapsed\n",
      "Problem is infeasible - 0.00 seconds\n",
      "Option for printingOptions changed from normal to all\n",
      "Total time (CPU seconds):       0.00   (Wallclock seconds):       0.00\n",
      "\n",
      "Status: -1\n",
      "Total Evacuation Time: 0.0\n",
      "Assignment:\n",
      "Person 0 uses Mode 2\n",
      "Person 1 uses Mode 2\n",
      "Person 2 uses Mode 0\n",
      "Person 3 uses Mode 2\n",
      "Person 4 uses Mode 1\n"
     ]
    }
   ],
   "source": [
    "# Solve the problem\n",
    "model.solve()\n",
    "\n",
    "# Display the results\n",
    "print(\"Status:\", value(model.status))\n",
    "print(\"Total Evacuation Time:\", value(model.objective))\n",
    "print(\"Assignment:\")\n",
    "for i in range(num_people):\n",
    "    for j in range(num_modes):\n",
    "        if value(x[i, j]) == 1:\n",
    "            print(f\"Person {i} uses Mode {j}\")"
   ]
  },
  {
   "cell_type": "code",
   "execution_count": null,
   "metadata": {},
   "outputs": [],
   "source": [
    "# how many people do you want to transfer\n",
    "# are the roads open or not?\n",
    "\n",
    "#presentation to the 8th army\n",
    "# show through a demonstration that we can predict what will happen with the model, use diffeent reasons\n",
    "# show that you can make different decisions based on this, or that the neo will last longer if you use that\n",
    "# dont run the code live, show screenshots\n",
    "# maybe have the figma working!! \n",
    "\n",
    "# you can add condition checks to avoid\n",
    "\n",
    "\n",
    "# what would be really attractive to the 8th army is to show if the biggest hub is obselete. what would\n",
    "#    you do in this situation\n",
    "\n",
    "# ^^ get visualization of these effects\n",
    "\n",
    "# explain under our  notional data, this is what it looked like for baseline, and this is looked like with extreme conditions\n",
    "# you can run this \n",
    "\n",
    "\n",
    "'''ArithmeticError\n",
    "- open/close nodes\n",
    "- improve capacity of the nodes\n",
    "- they want to know if we are able to figure out if a link between two nodes is disrupted, what would happen\n",
    "- be able to visualize the node capacity at this time step and what they would exprct it to be at the end of the evacuation\n",
    "- population density:\n",
    "---> the numbers they provided are the state department numbers. it is a huge assumtion -> is there any way to parameterize the\n",
    "     the number of people to come to a certain node at a certain time. they noticed this in Afghanistan (they assumed a certain\n",
    "     number of people enter))\n",
    "-> what goes into the total time of NEO\n",
    "--> in showing the demo, create a visual of how the total time is calculated\n",
    "----> show that this mathematical model is really scalable. when it comes to turning on and off a node, we CAN account for that\n",
    "\n",
    "- do a \"what if\" analysis. you can turn a link off by turning node capacity to 0 OR turn transport time to +inf?\n",
    "\n",
    "- change the frontend where you can add/subtract things (call it out in the presentation)\n",
    "'''\n",
    "\n"
   ]
  }
 ],
 "metadata": {
  "kernelspec": {
   "display_name": "Python 3",
   "language": "python",
   "name": "python3"
  },
  "language_info": {
   "codemirror_mode": {
    "name": "ipython",
    "version": 3
   },
   "file_extension": ".py",
   "mimetype": "text/x-python",
   "name": "python",
   "nbconvert_exporter": "python",
   "pygments_lexer": "ipython3",
   "version": "3.11.0"
  }
 },
 "nbformat": 4,
 "nbformat_minor": 2
}
